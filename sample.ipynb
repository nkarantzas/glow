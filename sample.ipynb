{
 "cells": [
  {
   "cell_type": "code",
   "execution_count": 1,
   "metadata": {},
   "outputs": [],
   "source": [
    "import json\n",
    "from tqdm import tqdm \n",
    "\n",
    "import torch\n",
    "from torchvision.utils import make_grid\n",
    "from torch.utils.data import DataLoader\n",
    "\n",
    "from datasets import get_MNIST, postprocess\n",
    "from model import Glow\n",
    "\n",
    "import matplotlib.pyplot as plt"
   ]
  },
  {
   "cell_type": "code",
   "execution_count": 2,
   "metadata": {},
   "outputs": [],
   "source": [
    "device = torch.device(\"cuda\")\n",
    "output_folder = 'output/'\n",
    "model_name = 'glow_checkpoint_9800.pt'\n",
    "\n",
    "with open(output_folder + 'hparams.json') as json_file:  \n",
    "    hparams = json.load(json_file)"
   ]
  },
  {
   "cell_type": "code",
   "execution_count": 3,
   "metadata": {},
   "outputs": [],
   "source": [
    "_, test_mnist = get_MNIST(hparams['num_classes'])\n",
    "\n",
    "model = Glow(\n",
    "    hparams['img_shape'], \n",
    "    hparams['hidden_channels'], \n",
    "    hparams['K'], \n",
    "    hparams['L'], \n",
    "    hparams['actnorm_scale'],\n",
    "    hparams['flow_permutation'], \n",
    "    hparams['flow_coupling'], \n",
    "    hparams['LU_decomposed'], \n",
    "    hparams['num_classes'],\n",
    "    hparams['learn_top'], \n",
    "    hparams['y_condition']\n",
    ")\n",
    "\n",
    "model.load_state_dict(torch.load(output_folder + model_name)['model'])\n",
    "model.set_actnorm_init()\n",
    "model = model.to(device)\n",
    "model = model.eval()"
   ]
  },
  {
   "cell_type": "code",
   "execution_count": 4,
   "metadata": {},
   "outputs": [],
   "source": [
    "def sample(model, n_samples=4):\n",
    "    with torch.no_grad():\n",
    "        if hparams['y_condition']:\n",
    "            y = torch.zeros(hparams['num_classes']*n_samples, hparams['num_classes']).to(device)\n",
    "            for i in range(hparams['num_classes']):\n",
    "                y[n_samples*i: n_samples*(i+1), i] = 1.\n",
    "        else: y = None\n",
    "        images = postprocess(model(y_onehot=y, temperature=0.7, reverse=True))\n",
    "    return images.cpu()"
   ]
  },
  {
   "cell_type": "code",
   "execution_count": 6,
   "metadata": {},
   "outputs": [],
   "source": [
    "n_samples = 12\n",
    "images = sample(model, n_samples)\n",
    "grid = make_grid(images, nrow=n_samples).permute(1, 2, 0)\n",
    "\n",
    "plt.figure(figsize=(14, 14))\n",
    "plt.imshow(grid)\n",
    "plt.axis('off')\n",
    "plt.title(\"Class-conditional generated examples\", fontsize=26)\n",
    "plt.show()"
   ]
  }
 ],
 "metadata": {
  "kernelspec": {
   "display_name": "Python 3",
   "language": "python",
   "name": "python3"
  },
  "language_info": {
   "codemirror_mode": {
    "name": "ipython",
    "version": 3
   },
   "file_extension": ".py",
   "mimetype": "text/x-python",
   "name": "python",
   "nbconvert_exporter": "python",
   "pygments_lexer": "ipython3",
   "version": "3.6.9"
  }
 },
 "nbformat": 4,
 "nbformat_minor": 4
}
